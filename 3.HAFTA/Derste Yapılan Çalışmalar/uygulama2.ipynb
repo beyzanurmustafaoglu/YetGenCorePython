{
 "cells": [
  {
   "attachments": {},
   "cell_type": "markdown",
   "metadata": {},
   "source": [
    "KARŞILAŞTIRMA OPERATÖRLERİ\n",
    "- = atama operatörüdür. mesela x=5 dersek x değerini 5'e atamış oluruz.\n",
    "- == iki değerin birbirine eşit olup olmadığını kontrol eder. eşitse True eşit değilse False değerini döndürür.\n",
    "- != eşit değil mi? cevap eşit değilse True, eşitse False değerini döndürür."
   ]
  },
  {
   "cell_type": "code",
   "execution_count": 1,
   "metadata": {},
   "outputs": [
    {
     "name": "stdout",
     "output_type": "stream",
     "text": [
      "True\n",
      "False\n"
     ]
    }
   ],
   "source": [
    "a, b, c, d=5, 5, 10, 4\n",
    "print(a==b) #True\n",
    "print(a==c) #False"
   ]
  },
  {
   "cell_type": "code",
   "execution_count": 2,
   "metadata": {},
   "outputs": [
    {
     "name": "stdout",
     "output_type": "stream",
     "text": [
      "False\n"
     ]
    }
   ],
   "source": [
    "username=\"admin\"\n",
    "password=\"12345\"\n",
    "print(\"beyza\"==username) #False"
   ]
  },
  {
   "cell_type": "code",
   "execution_count": 3,
   "metadata": {},
   "outputs": [
    {
     "name": "stdout",
     "output_type": "stream",
     "text": [
      "False\n"
     ]
    }
   ],
   "source": [
    "print(a!=b) #False"
   ]
  },
  {
   "cell_type": "code",
   "execution_count": 4,
   "metadata": {},
   "outputs": [
    {
     "name": "stdout",
     "output_type": "stream",
     "text": [
      "True\n"
     ]
    }
   ],
   "source": [
    "print(a!=c) #True"
   ]
  },
  {
   "cell_type": "code",
   "execution_count": 5,
   "metadata": {},
   "outputs": [
    {
     "name": "stdout",
     "output_type": "stream",
     "text": [
      "False\n"
     ]
    }
   ],
   "source": [
    "print(a>b)"
   ]
  },
  {
   "cell_type": "code",
   "execution_count": 6,
   "metadata": {},
   "outputs": [
    {
     "name": "stdout",
     "output_type": "stream",
     "text": [
      "False\n"
     ]
    }
   ],
   "source": [
    "print(a<b)"
   ]
  },
  {
   "cell_type": "code",
   "execution_count": 7,
   "metadata": {},
   "outputs": [
    {
     "name": "stdout",
     "output_type": "stream",
     "text": [
      "True\n"
     ]
    }
   ],
   "source": [
    "print(a>=b)"
   ]
  },
  {
   "cell_type": "code",
   "execution_count": 8,
   "metadata": {},
   "outputs": [
    {
     "name": "stdout",
     "output_type": "stream",
     "text": [
      "True\n"
     ]
    }
   ],
   "source": [
    "print(a<=b)"
   ]
  },
  {
   "attachments": {},
   "cell_type": "markdown",
   "metadata": {},
   "source": [
    "MANTIKSAL OPERATÖRLER\n",
    "\n",
    "And Operatörü\n",
    "- True And True= True\n",
    "- True And False= False\n",
    "- False And True= False\n",
    "- False And False= False\n",
    "- Her iki durum da eğer doğruysa True değerini döndürür. diğer durumşarda hep False değerini döndürür."
   ]
  },
  {
   "cell_type": "code",
   "execution_count": 1,
   "metadata": {},
   "outputs": [
    {
     "name": "stdout",
     "output_type": "stream",
     "text": [
      "True\n"
     ]
    }
   ],
   "source": [
    "x=int(input(\"bir sayı giriniz:\"))\n",
    "print(x>5 and x<100) # 1 için False And True"
   ]
  },
  {
   "cell_type": "code",
   "execution_count": 10,
   "metadata": {},
   "outputs": [
    {
     "name": "stdout",
     "output_type": "stream",
     "text": [
      "True\n"
     ]
    }
   ],
   "source": [
    "hak=5\n",
    "devamMi=True\n",
    "print(hak>0 and devamMi==True)"
   ]
  },
  {
   "attachments": {},
   "cell_type": "markdown",
   "metadata": {},
   "source": [
    "Or Operatörü\n",
    "- True or True= True\n",
    "- True or False= True\n",
    "- False or True= True\n",
    "- False or False= False\n",
    "- Yalnızca 2 durumun yanlış olduğu zamanlarda False, diğer durumlarda True değer verir."
   ]
  },
  {
   "cell_type": "code",
   "execution_count": 13,
   "metadata": {},
   "outputs": [
    {
     "name": "stdout",
     "output_type": "stream",
     "text": [
      "False\n"
     ]
    }
   ],
   "source": [
    "x=int(input(\"bir sayı giriniz:\"))\n",
    "print(x>0 or x%2==0) # 2'ye tam bölünüyor mu?"
   ]
  },
  {
   "cell_type": "code",
   "execution_count": 14,
   "metadata": {},
   "outputs": [
    {
     "name": "stdout",
     "output_type": "stream",
     "text": [
      "True\n"
     ]
    }
   ],
   "source": [
    "print(3>1 and 3>2)"
   ]
  },
  {
   "cell_type": "code",
   "execution_count": 15,
   "metadata": {},
   "outputs": [
    {
     "name": "stdout",
     "output_type": "stream",
     "text": [
      "True\n"
     ]
    }
   ],
   "source": [
    "print(3>1 or 3>2)"
   ]
  },
  {
   "attachments": {},
   "cell_type": "markdown",
   "metadata": {},
   "source": [
    "Not Operatörü\n",
    "- True değerini False\n",
    "- False için True döndürür"
   ]
  },
  {
   "cell_type": "code",
   "execution_count": 16,
   "metadata": {},
   "outputs": [
    {
     "name": "stdout",
     "output_type": "stream",
     "text": [
      "False\n"
     ]
    }
   ],
   "source": [
    "print(not(True))"
   ]
  },
  {
   "attachments": {},
   "cell_type": "markdown",
   "metadata": {},
   "source": [
    "KARAR YAPILARI\n",
    "- Eğer if bloğu doğruysa diğer durumlara bakılmaz ve if bloğu altındaki kodlar çalışır.\n",
    "- else yapısının kullanılması zorunlu değildir olsa da olur olmasa da olur.\n",
    "- elif yapısının kullanılması zorunlu değildir olsa da olur olmasa da olur.\n",
    "- else yapısı if ve varsa elif yapısının false olduğu durumda ikinci nihai durum olarak çalışır.\n",
    "- elif yapısını birden çok farklı koşullardan doğacak durumların kontrolünü sağlamak için kullanırız.\n",
    "- if koşul: #koşul doğruysa çalışacak kodlar\n",
    "- elif koşul2: #koşul2 doğruysa çalışacak kodlar\n",
    "- else: #koşul ve koşul2 yanlışsa çalışacak kodlar\n"
   ]
  },
  {
   "cell_type": "code",
   "execution_count": 18,
   "metadata": {},
   "outputs": [
    {
     "name": "stdout",
     "output_type": "stream",
     "text": [
      "program sonlandı\n"
     ]
    }
   ],
   "source": [
    "if 0>1:\n",
    "    print(\"ıf bloğu çalıştı\")\n",
    "print(\"program sonlandı\")"
   ]
  },
  {
   "cell_type": "code",
   "execution_count": 20,
   "metadata": {},
   "outputs": [
    {
     "name": "stdout",
     "output_type": "stream",
     "text": [
      "sayılar birbirine eşittir.\n"
     ]
    }
   ],
   "source": [
    "sayi1=int(input(\"birinci sayiyi giriniz:\"))\n",
    "sayi2=int(input(\"ikinci sayiyi giriniz:\"))\n",
    "if sayi1>sayi2:\n",
    "    print(\"1. sayı, 2. sayıdan büyüktür.\")\n",
    "elif sayi1==sayi2:\n",
    "    print(\"sayılar birbirine eşittir.\")\n",
    "else: #elif sayi1<sayi2: de yazılabilirdi.\n",
    "    print(\"2.sayi, 1.sayıdan büyüktür.\")"
   ]
  },
  {
   "cell_type": "code",
   "execution_count": 24,
   "metadata": {},
   "outputs": [
    {
     "name": "stdout",
     "output_type": "stream",
     "text": [
      "Ironman'i seçtiniz\n"
     ]
    }
   ],
   "source": [
    "superKahraman=input(\"bir süper kahraman giriniz:\")\n",
    "if superKahraman==\"Batman\":\n",
    "    print(\"Batman'i seçtiniz\")\n",
    "elif superKahraman==\"Superman\":\n",
    "    print(\"Superman'i seçtiniz\")\n",
    "elif superKahraman==\"Ironman\":\n",
    "    print(\"Ironman'i seçtiniz\")\n",
    "else:\n",
    "    print(\"Bizde böyle bir süper kahraman bulunmamaktadır.\")"
   ]
  },
  {
   "cell_type": "code",
   "execution_count": 25,
   "metadata": {},
   "outputs": [
    {
     "name": "stdout",
     "output_type": "stream",
     "text": [
      "10 sayısı 20 sayısından küçüktür ve 20 sayısı 30 sayısından küçüktür\n"
     ]
    }
   ],
   "source": [
    "a=10\n",
    "b=20\n",
    "c=30\n",
    "if a>b and b>c:\n",
    "    print(f\"{a} sayısı {b} sayısından büyüktür ve {b} sayısı {c} sayısından büyüktür\")\n",
    "if a<b and b<c:\n",
    "    print(f\"{a} sayısı {b} sayısından küçüktür ve {b} sayısı {c} sayısından küçüktür\")\n",
    "else:\n",
    "    print(\"Bu koşullar tutmadı\")"
   ]
  },
  {
   "cell_type": "code",
   "execution_count": 27,
   "metadata": {},
   "outputs": [
    {
     "name": "stdout",
     "output_type": "stream",
     "text": [
      "YetGen mezunusunuz. #YetGenBitmez diyerek YetGen'e Dikeylerle devam ediyorsun\n"
     ]
    }
   ],
   "source": [
    "yetgenMezunu=True\n",
    "if yetgenMezunu:\n",
    "    print(\"YetGen mezunusunuz. #YetGenBitmez diyerek YetGen'e Dikeylerle devam ediyorsun\")\n",
    "else:\n",
    "    print(\"YetGen mezunu değilsin. Acilen YetGen'e katılmalısın\")"
   ]
  },
  {
   "cell_type": "code",
   "execution_count": 28,
   "metadata": {},
   "outputs": [
    {
     "name": "stdout",
     "output_type": "stream",
     "text": [
      "3. sayı 5'ten büyüktür\n",
      "4. sayı 10'dan büyüktür\n"
     ]
    }
   ],
   "source": [
    "sayi3=10\n",
    "sayi4=20\n",
    "if sayi3>5:\n",
    "    print(\"3. sayı 5'ten büyüktür\")\n",
    "    if sayi4>10:\n",
    "        print(\"4. sayı 10'dan büyüktür\")\n",
    "    else:\n",
    "        print(\"ikinci else\")\n",
    "else:\n",
    "    print(\"birinci else\")"
   ]
  },
  {
   "cell_type": "code",
   "execution_count": 29,
   "metadata": {},
   "outputs": [
    {
     "name": "stdout",
     "output_type": "stream",
     "text": [
      "Yokmuş\n"
     ]
    }
   ],
   "source": [
    "isim=\"Beyza\"\n",
    "if \"Mustafaoğlu\" in isim: # in operatörü içinde ... var mı anlamındadır.\n",
    "    print(\"Varmış\")\n",
    "else:\n",
    "    print(\"Yokmuş\")"
   ]
  },
  {
   "cell_type": "code",
   "execution_count": 30,
   "metadata": {},
   "outputs": [
    {
     "name": "stdout",
     "output_type": "stream",
     "text": [
      "32 sayısı çifttir\n"
     ]
    }
   ],
   "source": [
    "sayi=int(input(\"bir sayı giriniz\"))\n",
    "if sayi%2==0:\n",
    "    print(f\"{sayi} sayısı çifttir\")\n",
    "else:\n",
    "    print(f\"{sayi} sayısı tektir\")"
   ]
  },
  {
   "attachments": {},
   "cell_type": "markdown",
   "metadata": {},
   "source": [
    "İn Operatörü\n",
    "- Belirtilen bir değerin dizi, metin, liste veya demet gibi bir dizinin öğesi olup olmadığını kontrol eder. True ya da false değeri döndürür."
   ]
  },
  {
   "cell_type": "code",
   "execution_count": 31,
   "metadata": {},
   "outputs": [
    {
     "data": {
      "text/plain": [
       "False"
      ]
     },
     "execution_count": 31,
     "metadata": {},
     "output_type": "execute_result"
    }
   ],
   "source": [
    "string=\"YetGen\"\n",
    "\"p\" in string"
   ]
  },
  {
   "cell_type": "code",
   "execution_count": 32,
   "metadata": {},
   "outputs": [
    {
     "data": {
      "text/plain": [
       "False"
      ]
     },
     "execution_count": 32,
     "metadata": {},
     "output_type": "execute_result"
    }
   ],
   "source": [
    "\"y\" in string"
   ]
  },
  {
   "attachments": {},
   "cell_type": "markdown",
   "metadata": {},
   "source": [
    "DÖNGÜLER\n",
    "- döngüler, temel olarak verilen koşullar karşılanana kadar devam eden tekrar eden bir süreçtir.\n",
    "- döngünün koşulu her zaman doğruysa döngü sonsuza kadar devam eder. buna \"sonsuz döngü\" denir. bu tür döngülere genellikle while döngüsünde rastlarız.\n",
    "- Eğer bir döngünün koşulu baştan yanlışsa, bu nedenle döngünün çalışmasına izin vermez. buna \"sıfır açma döngüsü\" denir.\n",
    "\n",
    "For Döngüsü\n",
    "- for döngüsü listelerin, demetlerin, stringlerin ve hatta sözcüklerin üzerinde dolaşmamızı sağlayan bir döngü türüdür. yapısı şu şekildedir:\n",
    "\n",
    "for eleman in veriYapisi: Yapılacak İşlemler"
   ]
  },
  {
   "cell_type": "code",
   "execution_count": 33,
   "metadata": {},
   "outputs": [
    {
     "name": "stdout",
     "output_type": "stream",
     "text": [
      "1\n",
      "2\n",
      "3\n",
      "4\n",
      "5\n"
     ]
    }
   ],
   "source": [
    "liste=[1,2,3,4,5]\n",
    "for i in liste:\n",
    "    print(i)"
   ]
  },
  {
   "cell_type": "code",
   "execution_count": 34,
   "metadata": {},
   "outputs": [
    {
     "name": "stdout",
     "output_type": "stream",
     "text": [
      "1\n",
      "4\n",
      "9\n",
      "16\n",
      "25\n"
     ]
    }
   ],
   "source": [
    "for i in liste:\n",
    "    print(i**2)"
   ]
  },
  {
   "cell_type": "code",
   "execution_count": 35,
   "metadata": {},
   "outputs": [
    {
     "name": "stdout",
     "output_type": "stream",
     "text": [
      "Y\n",
      "e\n",
      "t\n",
      "G\n",
      "e\n",
      "n\n",
      " \n",
      "J\n",
      "u\n",
      "m\n",
      "p\n"
     ]
    }
   ],
   "source": [
    "string=\"YetGen Jump\"\n",
    "for string1 in string:\n",
    "    print(string1)"
   ]
  },
  {
   "cell_type": "code",
   "execution_count": 37,
   "metadata": {},
   "outputs": [
    {
     "name": "stdout",
     "output_type": "stream",
     "text": [
      "1\n",
      "4\n",
      "9\n",
      "16\n",
      "25\n"
     ]
    }
   ],
   "source": [
    "sayilar=\"12345\"\n",
    "for x in sayilar:\n",
    "    print(int (x)*int (x))"
   ]
  },
  {
   "attachments": {},
   "cell_type": "markdown",
   "metadata": {},
   "source": [
    "WHİLE DÖNGÜSÜ\n",
    "- while döngüleri belli bir koşul sağlandığı sürece bloğundaki işlemleri gerçekleştirmeye devam eder. while döngülerinin sona ermesi için koşul durumunun bir süre sonra false olması gerekir. yapısı şu şekildedir:\n",
    "\n",
    "while koşul: Yapılacak İşlemler"
   ]
  },
  {
   "cell_type": "code",
   "execution_count": 39,
   "metadata": {},
   "outputs": [
    {
     "name": "stdout",
     "output_type": "stream",
     "text": [
      "Toplam : 55\n"
     ]
    }
   ],
   "source": [
    "sum=0\n",
    "i=1 \n",
    "while i<11:\n",
    "    sum+=i # sum = sum+i\n",
    "    i+=1 # bunu yazamazsan sonsuz döngüye girer\n",
    "print(\"Toplam :\",sum)"
   ]
  },
  {
   "attachments": {},
   "cell_type": "markdown",
   "metadata": {},
   "source": [
    "RANGE() FONKSİYONU\n",
    "- range(başlangıç, bitiş, artış miktarı) şeklinde kullanılır."
   ]
  },
  {
   "cell_type": "code",
   "execution_count": 40,
   "metadata": {},
   "outputs": [
    {
     "name": "stdout",
     "output_type": "stream",
     "text": [
      "range(1, 10, 2)\n"
     ]
    }
   ],
   "source": [
    "print(range(1,10,2))"
   ]
  },
  {
   "cell_type": "code",
   "execution_count": 41,
   "metadata": {},
   "outputs": [
    {
     "name": "stdout",
     "output_type": "stream",
     "text": [
      "1\n",
      "3\n",
      "5\n",
      "7\n",
      "9\n"
     ]
    }
   ],
   "source": [
    "for x in range(1,10,2):\n",
    "    print(x)"
   ]
  },
  {
   "cell_type": "code",
   "execution_count": 42,
   "metadata": {},
   "outputs": [
    {
     "name": "stdout",
     "output_type": "stream",
     "text": [
      "0\n",
      "1\n",
      "2\n",
      "3\n",
      "4\n"
     ]
    }
   ],
   "source": [
    "for x in range(5):\n",
    "    print(x)"
   ]
  },
  {
   "cell_type": "code",
   "execution_count": 43,
   "metadata": {},
   "outputs": [
    {
     "name": "stdout",
     "output_type": "stream",
     "text": [
      "0\n",
      "10\n",
      "20\n",
      "30\n",
      "40\n",
      "50\n",
      "60\n",
      "70\n",
      "80\n",
      "90\n",
      "100\n"
     ]
    }
   ],
   "source": [
    "for x in range(0,101,10):\n",
    "    print(x)"
   ]
  },
  {
   "attachments": {},
   "cell_type": "markdown",
   "metadata": {},
   "source": [
    "BREAK\n",
    "- döngüyü sonlandırır\n",
    "\n",
    "CONTINUE\n",
    "- döngünün sonraki adımına geçmeyi sağlar"
   ]
  },
  {
   "cell_type": "code",
   "execution_count": 45,
   "metadata": {},
   "outputs": [
    {
     "name": "stdout",
     "output_type": "stream",
     "text": [
      "0\n",
      "1\n",
      "2\n",
      "3\n",
      "4\n"
     ]
    }
   ],
   "source": [
    "i=0\n",
    "while i<10:\n",
    "    if(i==5):\n",
    "        break\n",
    "    else:\n",
    "        print(i)\n",
    "    i+=1"
   ]
  },
  {
   "cell_type": "code",
   "execution_count": 47,
   "metadata": {},
   "outputs": [
    {
     "name": "stdout",
     "output_type": "stream",
     "text": [
      "uygulamadan çıkmak için q tuşuna basınız\n",
      "yaşınız: 21\n",
      "uygulamadan çıkmak için q tuşuna basınız\n",
      "yaşınız: 21\n",
      "uygulamadan çıkmak için q tuşuna basınız\n"
     ]
    }
   ],
   "source": [
    "while True:\n",
    "    print(\"uygulamadan çıkmak için q tuşuna basınız\")\n",
    "    yas=input(\"yaş:\")\n",
    "    if(yas==\"q\"):\n",
    "        break\n",
    "    else:\n",
    "        print(\"yaşınız:\", yas)\n",
    "              "
   ]
  },
  {
   "cell_type": "code",
   "execution_count": 48,
   "metadata": {},
   "outputs": [
    {
     "name": "stdout",
     "output_type": "stream",
     "text": [
      "0\n",
      "1\n",
      "2\n",
      "3\n",
      "4\n",
      "6\n"
     ]
    }
   ],
   "source": [
    "for i in range(7):\n",
    "    if i==5:\n",
    "        continue\n",
    "    print(i)"
   ]
  }
 ],
 "metadata": {
  "kernelspec": {
   "display_name": "Python 3",
   "language": "python",
   "name": "python3"
  },
  "language_info": {
   "codemirror_mode": {
    "name": "ipython",
    "version": 3
   },
   "file_extension": ".py",
   "mimetype": "text/x-python",
   "name": "python",
   "nbconvert_exporter": "python",
   "pygments_lexer": "ipython3",
   "version": "3.11.1"
  },
  "orig_nbformat": 4
 },
 "nbformat": 4,
 "nbformat_minor": 2
}
