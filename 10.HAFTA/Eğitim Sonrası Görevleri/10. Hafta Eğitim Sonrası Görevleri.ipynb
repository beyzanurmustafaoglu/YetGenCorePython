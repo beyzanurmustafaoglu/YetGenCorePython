{
 "cells": [
  {
   "attachments": {},
   "cell_type": "markdown",
   "metadata": {},
   "source": [
    "# Problem 1 "
   ]
  },
  {
   "cell_type": "code",
   "execution_count": 3,
   "metadata": {},
   "outputs": [
    {
     "name": "stdout",
     "output_type": "stream",
     "text": [
      "[ 12  76  33 100  98]\n",
      "[ 12  33  76  98 100]\n"
     ]
    }
   ],
   "source": [
    "# 1 - numpy kütüphanesini import edin\n",
    "import numpy as np\n",
    "\n",
    "# 2 - 5 elemanlı bir numpy array oluşturun\n",
    "a=np.array([12,76,33,100,98])\n",
    "print(a)\n",
    "# 3 - Oluşturduğunuz arrayi küçükten büyüğe sıralayın.\n",
    "a.sort()\n",
    "print(a)"
   ]
  },
  {
   "attachments": {},
   "cell_type": "markdown",
   "metadata": {},
   "source": [
    "# Problem 2"
   ]
  },
  {
   "cell_type": "code",
   "execution_count": 20,
   "metadata": {},
   "outputs": [
    {
     "name": "stdout",
     "output_type": "stream",
     "text": [
      "1- [10 15 30 45 60]\n",
      "2- [ 5  6  7  8  9 10 11 12 13 14 15]\n",
      "3- [50 55 60 65 70 75 80 85 90 95]\n",
      "4- [0. 0. 0. 0. 0. 0. 0. 0. 0. 0.]\n",
      "5- [1. 1. 1. 1. 1. 1. 1. 1. 1. 1.]\n",
      "6- [  0.  25.  50.  75. 100.]\n",
      "7- [14 11 20 27 14]\n",
      "8- [ 0.46215033  0.62602053  0.62379038  0.66769263 -0.61100519  0.39212882\n",
      "  0.17636354 -0.34404693  0.43010687  0.03972188]\n",
      "9- [[24 36 29 39 16]\n",
      " [44 44 50 25 48]\n",
      " [13 49 12 11 21]]\n",
      "satır toplamı: [144 211 106]\n",
      "sütun toplamı: [ 81 129  91  75  85]\n",
      "toplam: 922\n",
      "en büyük sayı: 50\n",
      "en küçük sayı: 11\n",
      "ortalama: 30.733333333333334\n",
      "12- 7\n",
      "13- [10 11 12]\n",
      "14- [20 19 18 17 16 15 14 13 12 11 10]\n",
      "[[19 34 20 34 29]\n",
      " [42 47 18 24 46]\n",
      " [31 13 17 12 11]]\n",
      "15- [19 34 20 34 29]\n",
      "16- 18\n",
      "17- [19 42 31]\n",
      "18- [[38 68 40 68 58]\n",
      " [84 94 36 48 92]\n",
      " [62 26 34 24 22]]\n",
      "19- [34 28 40  2 20]\n"
     ]
    }
   ],
   "source": [
    "import numpy as np\n",
    "# 1- (10,15,30,45,60) değerlerine sahip numpy dizisi oluşturunuz.\n",
    "a=np.array([10,15,30,45,60])\n",
    "print(\"1-\",a)\n",
    "\n",
    "# 2- (5-15) arasındaki sayılarla numpy dizisi oluşturunuz.\n",
    "b=np.arange(5,16)\n",
    "print(\"2-\",b)\n",
    " \n",
    "# 3- (50-100) arasında 5'er 5'er artarak numpy dizisi oluşturunuz.\n",
    "c=np.arange(50,100,5)\n",
    "print(\"3-\",c)\n",
    "\n",
    "# 4- 10 elemanlı sıfırlardan oluşan bir dizi oluşturunuz.\n",
    "d=np.zeros(10)\n",
    "print(\"4-\",d)\n",
    "\n",
    "# 5- 10 elemanlı birlerden oluşan bir dizi oluşturunuz.\n",
    "e=np.ones(10)\n",
    "print(\"5-\",e)\n",
    "\n",
    "# 6- (0-100) arasında eşit aralıklı 5 sayı üretin.\n",
    "f=np.linspace(0,100,5)\n",
    "print(\"6-\",f)\n",
    "\n",
    "# 7- (10-30) arasında rastgele 5 tane tamsayı üretin.\n",
    "g=np.random.randint(10,31,5)\n",
    "print(\"7-\",g)\n",
    "\n",
    "# 8- [-1 ile 1] arasında 10 adet sayı üretin.\n",
    "h=np.random.uniform(-1,1,10)\n",
    "print(\"8-\",h)\n",
    "\n",
    "# 9- (3x5) boyutlarında (10-50) arasında rastgele bir matris oluşturunuz.\n",
    "i=np.random.randint(10,51,size=(3,5))\n",
    "print(\"9-\",i)\n",
    "\n",
    "# 10- Üretilen matrisin satır ve sütun sayıları toplamlarını hesaplayınız ?\n",
    "satirToplam=i.sum(axis=1)\n",
    "print(\"satır toplamı:\",satirToplam)\n",
    "sutunToplam=i.sum(axis=0)\n",
    "print(\"sütun toplamı:\",sutunToplam)\n",
    "toplam=satirToplam.sum()+sutunToplam.sum()\n",
    "print(\"toplam:\",toplam)\n",
    "\n",
    "# 11- Üretilen matrisin en büyük, en küçük ve ortalaması nedir ?\n",
    "buyuk=np.amax(i)\n",
    "print(\"en büyük sayı:\",buyuk)\n",
    "kucuk=np.amin(i)\n",
    "print(\"en küçük sayı:\",kucuk)\n",
    "ort=np.mean(i)\n",
    "print(\"ortalama:\",ort)\n",
    "\n",
    "# 12- Üretilen matrisin en büyük değerinin indeksi kaçtır ?\n",
    "index=np.argmax(i)\n",
    "print(\"12-\",index)\n",
    "\n",
    "# 13- (10-20) arasındaki sayıları içeren dizinin ilk 3 elemanını seçiniz.\n",
    "j=np.arange(10,21)\n",
    "print(\"13-\",j[:3])\n",
    "\n",
    "# 14- Üretilen dizinin elemanlarını tersten yazdırın.\n",
    "print(\"14-\",j[::-1])\n",
    "\n",
    "# 15- Üretilen matrisin ilk satırını seçiniz.\n",
    "k=np.random.randint(10,51,size=(3,5))\n",
    "print(k)\n",
    "print(\"15-\",k[0])\n",
    "\n",
    "# 16- Üretilen matrisin 2.satır 3.sütundaki elemanı hangisidir ?\n",
    "print(\"16-\",k[1,2])\n",
    "\n",
    "# 17- Üretilen matrisin tüm satırlardaki ilk elemanı seçiniz.\n",
    "print(\"17-\",k[:,0])\n",
    "\n",
    "# 18- Üretilen matrisin her bir elemanının karesini alınız.\n",
    "print(\"18-\",k*2)\n",
    "\n",
    "# 19- Üretilen matris elemanlarının hangisi pozitif çift sayıdır ? Aralığı (-50,+50) arasında yapınız.\n",
    "m=np.random.randint(-50,50,size=(5,5))\n",
    "print(\"19-\",m[(m>0)&(m%2==0)])\n",
    "\n"
   ]
  }
 ],
 "metadata": {
  "kernelspec": {
   "display_name": "Python 3",
   "language": "python",
   "name": "python3"
  },
  "language_info": {
   "codemirror_mode": {
    "name": "ipython",
    "version": 3
   },
   "file_extension": ".py",
   "mimetype": "text/x-python",
   "name": "python",
   "nbconvert_exporter": "python",
   "pygments_lexer": "ipython3",
   "version": "3.11.1"
  },
  "orig_nbformat": 4,
  "vscode": {
   "interpreter": {
    "hash": "5026d2d6e7aaaaba093def813beadff083d8733e4a511af01735cbabd156995d"
   }
  }
 },
 "nbformat": 4,
 "nbformat_minor": 2
}
