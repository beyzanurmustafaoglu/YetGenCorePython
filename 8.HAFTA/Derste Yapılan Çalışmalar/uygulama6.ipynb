{
 "cells": [
  {
   "attachments": {},
   "cell_type": "markdown",
   "metadata": {},
   "source": [
    "# Dosya Okuma İşlemleri\n",
    "- dosya açmak ve oluşturmak için open() kullanılır.\n",
    "- open(dosyaİsmi, dosyaModu)\n",
    "- dosyaModu: dosyayı hangi modda açacağını belirtir.\n",
    "- r: okuma modunda açmayı sağlar. belirtilen konumda dosya olması gerekir.\n",
    "- close(): dosyayı kapatır\n"
   ]
  },
  {
   "cell_type": "code",
   "execution_count": null,
   "metadata": {},
   "outputs": [],
   "source": [
    "f="
   ]
  }
 ],
 "metadata": {
  "language_info": {
   "name": "python"
  },
  "orig_nbformat": 4
 },
 "nbformat": 4,
 "nbformat_minor": 2
}
