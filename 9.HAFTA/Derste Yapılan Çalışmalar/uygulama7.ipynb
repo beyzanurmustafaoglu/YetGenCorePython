{
 "cells": [
  {
   "attachments": {},
   "cell_type": "markdown",
   "metadata": {},
   "source": [
    "# Methodlar"
   ]
  },
  {
   "cell_type": "code",
   "execution_count": 1,
   "metadata": {},
   "outputs": [],
   "source": [
    "class Yazilimci():\n",
    "    def __init__(self,isim,soyisim,numara,maas,diller):\n",
    "        self.isim=isim\n",
    "        self.soyisim=soyisim\n",
    "        self.numara=numara\n",
    "        self.maas=maas\n",
    "        self.diller=diller\n",
    "    def bilgileri_goster(self):\n",
    "        print(f\"\"\"\n",
    "        Çalışan bilgisi:\n",
    "            İsim:{self.isim}\n",
    "            Soyisim:{self.soyisim}\n",
    "            Numara:{self.numara}\n",
    "            Maaş:{self.maas}\n",
    "            Bildiği diller:{self.diller}\n",
    "            \"\"\")\n",
    "    def dil_ekle(self,yeni_dil):\n",
    "        print(\"dil eklendi\")\n",
    "        self.diller.append(yeni_dil)\n",
    "    def maas_yukselt(self,zam):\n",
    "        print(\"zam yapılıyor\")\n",
    "        self.maas+=250"
   ]
  },
  {
   "cell_type": "code",
   "execution_count": 2,
   "metadata": {},
   "outputs": [],
   "source": [
    "yazilimci=Yazilimci(\"berkcan\",\"gümüşışık\",12345,10000,[\"python\",\"flutter\",\"JS\"])"
   ]
  },
  {
   "cell_type": "code",
   "execution_count": 3,
   "metadata": {},
   "outputs": [
    {
     "name": "stdout",
     "output_type": "stream",
     "text": [
      "\n",
      "        Çalışan bilgisi:\n",
      "            İsim:berkcan\n",
      "            Soyisim:gümüşışık\n",
      "            Numara:12345\n",
      "            Maaş:10000\n",
      "            Bildiği diller:['python', 'flutter', 'JS']\n",
      "            \n"
     ]
    }
   ],
   "source": [
    "yazilimci.bilgileri_goster()"
   ]
  },
  {
   "cell_type": "code",
   "execution_count": 5,
   "metadata": {},
   "outputs": [
    {
     "name": "stdout",
     "output_type": "stream",
     "text": [
      "zam yapılıyor\n"
     ]
    }
   ],
   "source": [
    "yazilimci.maas_yukselt(250)"
   ]
  },
  {
   "cell_type": "code",
   "execution_count": 6,
   "metadata": {},
   "outputs": [
    {
     "name": "stdout",
     "output_type": "stream",
     "text": [
      "\n",
      "        Çalışan bilgisi:\n",
      "            İsim:berkcan\n",
      "            Soyisim:gümüşışık\n",
      "            Numara:12345\n",
      "            Maaş:10250\n",
      "            Bildiği diller:['python', 'flutter', 'JS']\n",
      "            \n"
     ]
    }
   ],
   "source": [
    "yazilimci.bilgileri_goster()"
   ]
  },
  {
   "attachments": {},
   "cell_type": "markdown",
   "metadata": {},
   "source": [
    "# Inheritance\n",
    "- bir sınıfın özelliklerinin ve metotlarının başka sınıflara aktarılarak işlevinin artırılmasını sağlar.\n",
    "- super() en genel anlamıyla miras aldığımız sınıfın metodlarını alt sınıflardan kullanmamızı sağlar.\n",
    "super().init() metodu çalışırken sınıfın özelliklerini ve metotlarını kullanır.\n",
    "- Base Class ana sınıftır\n",
    "- Sub Class base class'ın özelliklerini ve metotlarını kullanır."
   ]
  },
  {
   "cell_type": "code",
   "execution_count": 19,
   "metadata": {},
   "outputs": [
    {
     "name": "stdout",
     "output_type": "stream",
     "text": [
      "person nesnesi türetildi\n",
      "berkcan gümüşışık 23\n"
     ]
    }
   ],
   "source": [
    "class Person:\n",
    "    def __init__(self,name,surname,age):\n",
    "        self.name=name\n",
    "        self.surname=surname\n",
    "        self.age=age\n",
    "        print(\"person nesnesi türetildi\")\n",
    "    def intro(self):\n",
    "        print(self.name,self.surname,self.age)\n",
    "class Student(Person):\n",
    "    def __init__(self,name,surname,age,number):\n",
    "        super().__init__(name,surname,age)\n",
    "        self.number=number\n",
    "        print(\"student nesnesi çalıştı\")\n",
    "\n",
    "    def intro(self):\n",
    "        print(self.name,self.surname,self.age,self.number)\n",
    "\n",
    "    def study(self):\n",
    "        print(f\"{self.number} numaralı öğrenci ders çalışıyor.\")\n",
    "    \n",
    "class Teacher(Person):\n",
    "    def __init__(self,name,surname,age,branch):\n",
    "        super().__init__(name,surname,age)\n",
    "        self.branch=branch\n",
    "        print(\"teacher nesnesi çalıştı\")\n",
    "    def teach(self):\n",
    "        print(f\"{self.name} isimli öğretmen {self.branch} dersine girmektedir.\")\n",
    "\n",
    "p1=Person(\"berkcan\",\"gümüşışık\",23)\n",
    "p1.intro()\n",
    "              \n",
    "    "
   ]
  },
  {
   "cell_type": "code",
   "execution_count": 12,
   "metadata": {},
   "outputs": [
    {
     "name": "stdout",
     "output_type": "stream",
     "text": [
      "person nesnesi türetildi\n",
      "student nesnesi çalıştı\n",
      "yetgen jump 20 1001\n",
      "1001 numaralı öğrenci ders çalışıyor.\n"
     ]
    }
   ],
   "source": [
    "s1=Student(\"yetgen\",\"jump\",20,1001)\n",
    "s1.intro()\n",
    "s1.study()"
   ]
  },
  {
   "cell_type": "code",
   "execution_count": 20,
   "metadata": {},
   "outputs": [
    {
     "name": "stdout",
     "output_type": "stream",
     "text": [
      "person nesnesi türetildi\n",
      "teacher nesnesi çalıştı\n",
      "ahmet yılmaz 30\n",
      "ahmet isimli öğretmen bilgisayar dersine girmektedir.\n"
     ]
    }
   ],
   "source": [
    "t1=Teacher(\"ahmet\",\"yılmaz\",30,\"bilgisayar\")\n",
    "t1.intro()\n",
    "t1.teach()"
   ]
  }
 ],
 "metadata": {
  "kernelspec": {
   "display_name": "Python 3",
   "language": "python",
   "name": "python3"
  },
  "language_info": {
   "codemirror_mode": {
    "name": "ipython",
    "version": 3
   },
   "file_extension": ".py",
   "mimetype": "text/x-python",
   "name": "python",
   "nbconvert_exporter": "python",
   "pygments_lexer": "ipython3",
   "version": "3.11.1"
  },
  "orig_nbformat": 4
 },
 "nbformat": 4,
 "nbformat_minor": 2
}
