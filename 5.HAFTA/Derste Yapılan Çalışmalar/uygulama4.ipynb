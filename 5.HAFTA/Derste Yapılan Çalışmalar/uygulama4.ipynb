{
 "cells": [
  {
   "attachments": {},
   "cell_type": "markdown",
   "metadata": {},
   "source": [
    "# List Comprehension\n",
    "- Liste işlemlerinde kodu uzun yazmak yerine tek bir satırda düzenleme imkanı sunuyor\n",
    "- do this, for this collection, im this situation\n",
    "- [x**2 for x in range(0,50) for x%3==0]"
   ]
  },
  {
   "cell_type": "code",
   "execution_count": 2,
   "metadata": {},
   "outputs": [
    {
     "name": "stdout",
     "output_type": "stream",
     "text": [
      "[1, 4, 9, 16, 25, 36, 49, 64, 81, 100]\n"
     ]
    }
   ],
   "source": [
    "# Klasik Yöntem\n",
    "liste=[1,2,3,4,5,6,7,8,9,10]\n",
    "yeniListe=[]\n",
    "for i in liste:\n",
    "    yeniListe.append(i*i)\n",
    "print(yeniListe)"
   ]
  },
  {
   "cell_type": "code",
   "execution_count": 3,
   "metadata": {},
   "outputs": [
    {
     "name": "stdout",
     "output_type": "stream",
     "text": [
      "[1, 4, 9, 16, 25, 36, 49, 64, 81, 100]\n"
     ]
    }
   ],
   "source": [
    "# List\n",
    "liste=[1,2,3,4,5,6,7,8,9,10]\n",
    "yeniListe=[i*i for i in liste]\n",
    "print(yeniListe)"
   ]
  },
  {
   "cell_type": "code",
   "execution_count": 7,
   "metadata": {},
   "outputs": [
    {
     "name": "stdout",
     "output_type": "stream",
     "text": [
      "1\n",
      "2\n",
      "3\n",
      "4\n",
      "5\n",
      "6\n",
      "7\n",
      "8\n",
      "9\n",
      "10\n",
      "11\n",
      "12\n",
      "13\n",
      "14\n",
      "15\n",
      "[]\n"
     ]
    }
   ],
   "source": [
    "liste=[[1,2,3],[4,5,6,7,8],[9,10,11,12,13,14,15]]\n",
    "liste2=[]\n",
    "for i in liste:\n",
    "    for x in i:\n",
    "        print(x)\n",
    "print(liste2)"
   ]
  },
  {
   "cell_type": "code",
   "execution_count": 4,
   "metadata": {},
   "outputs": [
    {
     "name": "stdout",
     "output_type": "stream",
     "text": [
      "[1, 2, 3, 4, 5, 6, 7, 8, 9, 10, 11, 12, 13, 14, 15]\n"
     ]
    }
   ],
   "source": [
    "liste=[[1,2,3],[4,5,6,7,8],[9,10,11,12,13,14,15]]\n",
    "liste2=[x for i in liste for x in i]\n",
    "print(liste2)"
   ]
  },
  {
   "cell_type": "code",
   "execution_count": 8,
   "metadata": {},
   "outputs": [
    {
     "name": "stdout",
     "output_type": "stream",
     "text": [
      "[1, 2, 3, 5, 6, 7, 8, 10]\n"
     ]
    }
   ],
   "source": [
    "liste1=[1,2,3,4,5,6,7,8,9,10]\n",
    "liste2=[i for i in liste1 if not(i==4 or i==9)]\n",
    "print(liste2)"
   ]
  },
  {
   "attachments": {},
   "cell_type": "markdown",
   "metadata": {},
   "source": [
    "# Fonksiyonlar\n",
    "- bir kodu birçok yerde kullanmamız gerekiyorsa, her yrede tekrar tekrar yazmayı önler. Programlamanın temeli: DRY(don't repeat yourself)\n",
    "- fonksiyonların içindeki değişkenler yereldir, yani bir fonksiyonun içinde bir değişken tanımladığınızda o değişkeni fonksiyonun dışında çağıramayız. çünkü o değişken o fonksiyona özeldir ve globalde kullanılamaz.\n",
    "- fonksiyon tanımlamanın yapısı şu şekildedir;\n",
    "-        def fonksiyon_adı(parametre1,parametre2...(opsiyonel)):\n",
    "             # fonksiyon bloğu\n",
    "             Yapılacak işlemler\n",
    "             #dönüş değeri - opsiyonel\n",
    "- tanımlanan bir fonksiyonun kullanılmasına programlama dilleinde Fonksiyon Çağrısı denmektedir. fonksiyon çağrısı şu şekilde yapılabilmektedir;\n",
    "-         fonksiyon_adı(argüman1,argüman2...)"
   ]
  },
  {
   "cell_type": "code",
   "execution_count": 10,
   "metadata": {},
   "outputs": [
    {
     "name": "stdout",
     "output_type": "stream",
     "text": [
      "merhaba\n",
      "merhaba\n"
     ]
    }
   ],
   "source": [
    "def selamla():\n",
    "    print(\"merhaba\")\n",
    "selamla()\n",
    "selamla()"
   ]
  },
  {
   "attachments": {},
   "cell_type": "markdown",
   "metadata": {},
   "source": [
    "# Argüman\n",
    "- işlev çağırılırken parantez içindeki işlevlere iletilen değerler (string, number, vb.)(ör. islev_adı (argüman))\n",
    "- eğer fonksiyon çağırılırken bir argüman yoksa, bu argümanın değeri None olacaktır. bu nedenle fonksiyonun içinde ifade edilecek bir değer yoksa, belirlenen değeri kullanılmalıdır.\n",
    "-  def helloWorld(name=\"ziyaretçi\"):\n",
    "       print(\"merhaba \" ,name)\n",
    "- birden fazla parametre olabilir. her biri virgülle ayrılır"
   ]
  },
  {
   "cell_type": "code",
   "execution_count": 11,
   "metadata": {},
   "outputs": [
    {
     "name": "stdout",
     "output_type": "stream",
     "text": [
      "merhaba  ziyaretçi\n",
      "merhaba  beyza\n"
     ]
    }
   ],
   "source": [
    "def helloWorld(name=\"ziyaretçi\"):\n",
    "    print(\"merhaba \" , name)\n",
    "helloWorld()\n",
    "helloWorld(\"beyza\")"
   ]
  },
  {
   "cell_type": "code",
   "execution_count": 1,
   "metadata": {},
   "outputs": [
    {
     "name": "stdout",
     "output_type": "stream",
     "text": [
      "6\n"
     ]
    }
   ],
   "source": [
    "def topla(sayi1,sayi2,sayi3):\n",
    "    toplam=sayi1+sayi2+sayi3\n",
    "    print(toplam)\n",
    "topla(1,2,3)"
   ]
  },
  {
   "cell_type": "code",
   "execution_count": 17,
   "metadata": {},
   "outputs": [
    {
     "name": "stdout",
     "output_type": "stream",
     "text": [
      "siteme hoş geldin beyza nur\n",
      "siteme hoş geldin nazlı nur\n",
      "siteme hoş geldin nazlı yılmaz\n"
     ]
    }
   ],
   "source": [
    "def merhaba(name=\"beyza\", surname=\"nur\"):\n",
    "    print(\"siteme hoş geldin \" +name+ \" \" +surname)\n",
    "merhaba()\n",
    "merhaba(\"nazlı\")\n",
    "merhaba(\"nazlı\",\"yılmaz\")"
   ]
  },
  {
   "cell_type": "code",
   "execution_count": 2,
   "metadata": {},
   "outputs": [
    {
     "name": "stdout",
     "output_type": "stream",
     "text": [
      "30\n",
      "6\n",
      "2\n"
     ]
    }
   ],
   "source": [
    "def carp(sayi1=1, sayi2=1, sayi3=1):\n",
    "    c=sayi1*sayi2*sayi3\n",
    "    print(c)\n",
    "carp(2,3,5)\n",
    "carp(2,3)\n",
    "carp(2)"
   ]
  },
  {
   "cell_type": "code",
   "execution_count": 3,
   "metadata": {},
   "outputs": [
    {
     "name": "stdout",
     "output_type": "stream",
     "text": [
      "hola\n",
      "bonjour\n",
      "hello\n",
      "merhaba\n"
     ]
    }
   ],
   "source": [
    "def merhaba(dil):\n",
    "    if dil==\"es\":\n",
    "        print(\"hola\")\n",
    "    elif dil==\"fr\":\n",
    "        print(\"bonjour\")\n",
    "    elif dil==\"en\":\n",
    "        print(\"hello\")\n",
    "    else:\n",
    "        print(\"merhaba\")\n",
    "merhaba(\"es\")\n",
    "merhaba(\"fr\")\n",
    "merhaba(\"en\")\n",
    "merhaba(\"tr\")"
   ]
  },
  {
   "attachments": {},
   "cell_type": "markdown",
   "metadata": {},
   "source": [
    "# Return\n",
    "- kodun tamamında kullanmak için işlevin kodu tamamlandıktan sonra kalan değeri (sonuç değeri) döndürür.\n",
    "- \"return\" anahtar sözcüğünden sonraki kodlar yürütülmez. bu görmezden gelindikleri anlamına gelir.\n",
    "- return yardımıyla fonksiyonlar değerleri çağırıldığı yere döndürebilir ve biz de bu değerleri istediğimiz yerde kullanabiliriz. "
   ]
  },
  {
   "cell_type": "code",
   "execution_count": 5,
   "metadata": {},
   "outputs": [
    {
     "name": "stdout",
     "output_type": "stream",
     "text": [
      "3.0\n"
     ]
    }
   ],
   "source": [
    "def dikÜcgenAlanHesapla(a,b):\n",
    "    return(a*b)/2\n",
    "alan=dikÜcgenAlanHesapla(2,3)\n",
    "print(alan)"
   ]
  },
  {
   "cell_type": "code",
   "execution_count": 4,
   "metadata": {},
   "outputs": [
    {
     "name": "stdout",
     "output_type": "stream",
     "text": [
      "3.0\n"
     ]
    }
   ],
   "source": [
    "def dikÜcgenAlanHesapla(a,b):\n",
    "    return(a*b)/2\n",
    "print(dikÜcgenAlanHesapla(2,3))"
   ]
  },
  {
   "attachments": {},
   "cell_type": "markdown",
   "metadata": {},
   "source": [
    "# *args\n",
    "- sınırsız sayıda parametreli fonksiyon oluşturmak için parametremizin önüne tek yıldız (*) koyabiliriz.\n",
    "- isimsiz argümanlardır."
   ]
  },
  {
   "cell_type": "code",
   "execution_count": 6,
   "metadata": {},
   "outputs": [
    {
     "name": "stdout",
     "output_type": "stream",
     "text": [
      "(4,)\n"
     ]
    }
   ],
   "source": [
    "def sayilar(*x):\n",
    "    print(x)\n",
    "sayilar(4)"
   ]
  },
  {
   "cell_type": "code",
   "execution_count": 7,
   "metadata": {},
   "outputs": [
    {
     "name": "stdout",
     "output_type": "stream",
     "text": [
      "(4, 5, 6, 7, 8, 9, 10)\n"
     ]
    }
   ],
   "source": [
    "sayilar(4,5,6,7,8,9,10)"
   ]
  },
  {
   "cell_type": "code",
   "execution_count": 8,
   "metadata": {},
   "outputs": [
    {
     "name": "stdout",
     "output_type": "stream",
     "text": [
      "55\n"
     ]
    }
   ],
   "source": [
    "def topla(*x):\n",
    "    toplam=0\n",
    "    for i in x:\n",
    "        toplam+=i #toplam=toplam+i\n",
    "    print(toplam)\n",
    "topla(1,2,3,4,5,6,7,8,9,10)"
   ]
  },
  {
   "attachments": {},
   "cell_type": "markdown",
   "metadata": {},
   "source": [
    "# **kwargs\n",
    "- çift yıldızlı ( ** ) parametrelerin tek yıldızlı (*) parametrelerden en önemli farkı, fonksiyonu çağırırken anahtar değer ilişkisiyle çağırabilmemizdir.\n",
    "- isimli argümanlardır."
   ]
  },
  {
   "cell_type": "code",
   "execution_count": 10,
   "metadata": {},
   "outputs": [
    {
     "name": "stdout",
     "output_type": "stream",
     "text": [
      "{'adi': 'beyza', 'soyadı': 'mustafaoğlu', 'yas': 20}\n"
     ]
    }
   ],
   "source": [
    "def kimlikGoster(**kimlik):\n",
    "    print(kimlik)\n",
    "kimlikGoster(adi=\"beyza\", soyadı=\"mustafaoğlu\", yas=20)"
   ]
  },
  {
   "cell_type": "code",
   "execution_count": 16,
   "metadata": {},
   "outputs": [
    {
     "name": "stdout",
     "output_type": "stream",
     "text": [
      "10\n",
      "(20, 30, 40, 50)\n",
      "6\n",
      "{'adi': 'beyza', 'soyadi': 'mustafaoğlu', 'yas': 20}\n"
     ]
    }
   ],
   "source": [
    "def ornek(a,*sayilar, b, **kimlik):\n",
    "    print(a)\n",
    "    print(sayilar)\n",
    "    print(b)\n",
    "    print(kimlik)\n",
    "\n",
    "ornek(10,20,30,40,50, b=6, adi=\"beyza\", soyadi=\"mustafaoğlu\", yas=20)"
   ]
  },
  {
   "attachments": {},
   "cell_type": "markdown",
   "metadata": {},
   "source": [
    "# Pass Deyimi\n",
    "- python programlamasında pass ifadesi null değer atama için kullanılır. pythondaki bir açıklama ve geçiş ifadesi arasındaki fark, yorumlayıcı bir yorumu tamamen yok sayarken, geçişin göz ardı edilmemesidir."
   ]
  },
  {
   "cell_type": "code",
   "execution_count": 17,
   "metadata": {},
   "outputs": [],
   "source": [
    "def carp(*sayilar):\n",
    "    for sayi in sayilar:\n",
    "        pass\n",
    "carp(2,5)"
   ]
  },
  {
   "attachments": {},
   "cell_type": "markdown",
   "metadata": {},
   "source": [
    "# Global ve Yerel Dağişkenler\n",
    "- global değişken fonksiyonlarımızın dışında tanımladığımız değişkenlerdir.\n",
    "- yerel değişkenler is fonksiyon içinde kullandığımız değişkenlerdir.\n",
    "- fonksiyonun dışında tanımladığımız fonnksiyonların içinde kullanılırken, fonksiyonların içinde tanımladığımız değişkenler fonksiyon dışında kullanılamaz."
   ]
  },
  {
   "cell_type": "code",
   "execution_count": null,
   "metadata": {},
   "outputs": [],
   "source": [
    "# global değişken\n",
    "def goster():\n",
    "    # yerel değişken"
   ]
  },
  {
   "cell_type": "code",
   "execution_count": 19,
   "metadata": {},
   "outputs": [
    {
     "name": "stdout",
     "output_type": "stream",
     "text": [
      "5\n"
     ]
    },
    {
     "ename": "NameError",
     "evalue": "name 'x' is not defined",
     "output_type": "error",
     "traceback": [
      "\u001b[1;31m---------------------------------------------------------------------------\u001b[0m",
      "\u001b[1;31mNameError\u001b[0m                                 Traceback (most recent call last)",
      "Cell \u001b[1;32mIn[19], line 5\u001b[0m\n\u001b[0;32m      3\u001b[0m     \u001b[39mprint\u001b[39m(x)\n\u001b[0;32m      4\u001b[0m yazdir2()\n\u001b[1;32m----> 5\u001b[0m \u001b[39mprint\u001b[39m(x)\n",
      "\u001b[1;31mNameError\u001b[0m: name 'x' is not defined"
     ]
    }
   ],
   "source": [
    "def yazdir2():\n",
    "    x=5\n",
    "    print(x)\n",
    "yazdir2()\n",
    "print(x)"
   ]
  },
  {
   "cell_type": "code",
   "execution_count": 20,
   "metadata": {},
   "outputs": [
    {
     "name": "stdout",
     "output_type": "stream",
     "text": [
      "5\n",
      "5\n"
     ]
    }
   ],
   "source": [
    "def yazdir3():\n",
    "    global x\n",
    "    x=5\n",
    "    print(x)\n",
    "yazdir3()\n",
    "print(x)"
   ]
  },
  {
   "attachments": {},
   "cell_type": "markdown",
   "metadata": {},
   "source": [
    "# Lambda Gösterimi\n",
    "- pythonda isimsiz olarak tanımladığımız fonksiyonlara lambda fonksiyonları denir.\n",
    "- tek satırla yazılırlar\n",
    "- gösterimi;\n",
    "fonksiyonAdi= lambda parametreler:yapılacakİslem"
   ]
  },
  {
   "cell_type": "code",
   "execution_count": 21,
   "metadata": {},
   "outputs": [
    {
     "data": {
      "text/plain": [
       "3.0"
      ]
     },
     "execution_count": 21,
     "metadata": {},
     "output_type": "execute_result"
    }
   ],
   "source": [
    "dikÜcgenAlanHesapla=lambda a,b: a*b/2\n",
    "dikÜcgenAlanHesapla(2,3)"
   ]
  },
  {
   "cell_type": "code",
   "execution_count": 22,
   "metadata": {},
   "outputs": [
    {
     "name": "stdout",
     "output_type": "stream",
     "text": [
      "6\n"
     ]
    }
   ],
   "source": [
    "ikiyleCarp=lambda x: print(x*2)\n",
    "ikiyleCarp(3)"
   ]
  },
  {
   "cell_type": "code",
   "execution_count": 23,
   "metadata": {},
   "outputs": [
    {
     "name": "stdout",
     "output_type": "stream",
     "text": [
      "azyeb\n"
     ]
    }
   ],
   "source": [
    "ters=lambda s:s[::-1]\n",
    "print(ters(\"beyza\"))"
   ]
  }
 ],
 "metadata": {
  "kernelspec": {
   "display_name": "Python 3",
   "language": "python",
   "name": "python3"
  },
  "language_info": {
   "codemirror_mode": {
    "name": "ipython",
    "version": 3
   },
   "file_extension": ".py",
   "mimetype": "text/x-python",
   "name": "python",
   "nbconvert_exporter": "python",
   "pygments_lexer": "ipython3",
   "version": "3.11.1"
  },
  "orig_nbformat": 4
 },
 "nbformat": 4,
 "nbformat_minor": 2
}
