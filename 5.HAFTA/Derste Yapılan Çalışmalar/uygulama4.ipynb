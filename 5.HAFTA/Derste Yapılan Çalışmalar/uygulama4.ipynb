{
 "cells": [
  {
   "attachments": {},
   "cell_type": "markdown",
   "metadata": {},
   "source": [
    "# List Comprehension\n",
    "- Liste işlemlerinde kodu uzun yazmak yerine tek bir satırda düzenleme imkanı sunuyor\n",
    "- do this, for this collection, im this situation\n",
    "- [x**2 for x in range(0,50) for x%3==0]"
   ]
  },
  {
   "cell_type": "code",
   "execution_count": 2,
   "metadata": {},
   "outputs": [
    {
     "name": "stdout",
     "output_type": "stream",
     "text": [
      "[1, 4, 9, 16, 25, 36, 49, 64, 81, 100]\n"
     ]
    }
   ],
   "source": [
    "# Klasik Yöntem\n",
    "liste=[1,2,3,4,5,6,7,8,9,10]\n",
    "yeniListe=[]\n",
    "for i in liste:\n",
    "    yeniListe.append(i*i)\n",
    "print(yeniListe)"
   ]
  },
  {
   "cell_type": "code",
   "execution_count": 3,
   "metadata": {},
   "outputs": [
    {
     "name": "stdout",
     "output_type": "stream",
     "text": [
      "[1, 4, 9, 16, 25, 36, 49, 64, 81, 100]\n"
     ]
    }
   ],
   "source": [
    "# List\n",
    "liste=[1,2,3,4,5,6,7,8,9,10]\n",
    "yeniListe=[i*i for i in liste]\n",
    "print(yeniListe)"
   ]
  },
  {
   "cell_type": "code",
   "execution_count": 7,
   "metadata": {},
   "outputs": [
    {
     "name": "stdout",
     "output_type": "stream",
     "text": [
      "1\n",
      "2\n",
      "3\n",
      "4\n",
      "5\n",
      "6\n",
      "7\n",
      "8\n",
      "9\n",
      "10\n",
      "11\n",
      "12\n",
      "13\n",
      "14\n",
      "15\n",
      "[]\n"
     ]
    }
   ],
   "source": [
    "liste=[[1,2,3],[4,5,6,7,8],[9,10,11,12,13,14,15]]\n",
    "liste2=[]\n",
    "for i in liste:\n",
    "    for x in i:\n",
    "        print(x)\n",
    "print(liste2)"
   ]
  },
  {
   "cell_type": "code",
   "execution_count": 4,
   "metadata": {},
   "outputs": [
    {
     "name": "stdout",
     "output_type": "stream",
     "text": [
      "[1, 2, 3, 4, 5, 6, 7, 8, 9, 10, 11, 12, 13, 14, 15]\n"
     ]
    }
   ],
   "source": [
    "liste=[[1,2,3],[4,5,6,7,8],[9,10,11,12,13,14,15]]\n",
    "liste2=[x for i in liste for x in i]\n",
    "print(liste2)"
   ]
  },
  {
   "cell_type": "code",
   "execution_count": 8,
   "metadata": {},
   "outputs": [
    {
     "name": "stdout",
     "output_type": "stream",
     "text": [
      "[1, 2, 3, 5, 6, 7, 8, 10]\n"
     ]
    }
   ],
   "source": [
    "liste1=[1,2,3,4,5,6,7,8,9,10]\n",
    "liste2=[i for i in liste1 if not(i==4 or i==9)]\n",
    "print(liste2)"
   ]
  },
  {
   "attachments": {},
   "cell_type": "markdown",
   "metadata": {},
   "source": [
    "# Fonksiyonlar\n",
    "- bir kodu birçok yerde kullanmamız gerekiyorsa, her yrede tekrar tekrar yazmayı önler. Programlamanın temeli: DRY(don't repeat yourself)\n",
    "- fonksiyonların içindeki değişkenler yereldir, yani bir fonksiyonun içinde bir değişken tanımladığınızda o değişkeni fonksiyonun dışında çağıramayız. çünkü o değişken o fonksiyona özeldir ve globalde kullanılamaz.\n",
    "- fonksiyon tanımlamanın yapısı şu şekildedir;\n",
    "-        def fonksiyon_adı(parametre1,parametre2...(opsiyonel)):\n",
    "             # fonksiyon bloğu\n",
    "             Yapılacak işlemler\n",
    "             #dönüş değeri - opsiyonel\n",
    "- tanımlanan bir fonksiyonun kullanılmasına programlama dilleinde Fonksiyon Çağrısı denmektedir. fonksiyon çağrısı şu şekilde yapılabilmektedir;\n",
    "-         fonksiyon_adı(argüman1,argüman2...)"
   ]
  },
  {
   "cell_type": "code",
   "execution_count": 10,
   "metadata": {},
   "outputs": [
    {
     "name": "stdout",
     "output_type": "stream",
     "text": [
      "merhaba\n",
      "merhaba\n"
     ]
    }
   ],
   "source": [
    "def selamla():\n",
    "    print(\"merhaba\")\n",
    "selamla()\n",
    "selamla()"
   ]
  },
  {
   "attachments": {},
   "cell_type": "markdown",
   "metadata": {},
   "source": [
    "# Argüman\n",
    "- işlev çağırılırken parantez içindeki işlevlere iletilen değerler (string, number, vb.)(ör. islev_adı (argüman))\n",
    "- eğer fonksiyon çağırılırken bir argüman yoksa, bu argümanın değeri None olacaktır. bu nedenle fonksiyonun içinde ifade edilecek bir değer yoksa, belirlenen değeri kullanılmalıdır.\n",
    "-  def helloWorld(name=\"ziyaretçi\"):\n",
    "       print(\"merhaba \" ,name)\n",
    "- birden fazla parametre olabilir. her biri virgülle ayrılır"
   ]
  },
  {
   "cell_type": "code",
   "execution_count": 11,
   "metadata": {},
   "outputs": [
    {
     "name": "stdout",
     "output_type": "stream",
     "text": [
      "merhaba  ziyaretçi\n",
      "merhaba  beyza\n"
     ]
    }
   ],
   "source": [
    "def helloWorld(name=\"ziyaretçi\"):\n",
    "    print(\"merhaba \" , name)\n",
    "helloWorld()\n",
    "helloWorld(\"beyza\")"
   ]
  },
  {
   "cell_type": "code",
   "execution_count": 14,
   "metadata": {},
   "outputs": [
    {
     "name": "stdout",
     "output_type": "stream",
     "text": [
      "6\n"
     ]
    }
   ],
   "source": [
    "def topla(sayi1,sayi2,sayi3):\n",
    "    toplam=sayi1+sayi2+sayi3\n",
    "    print(toplam)\n",
    "topla(1,2,3)"
   ]
  },
  {
   "cell_type": "code",
   "execution_count": 17,
   "metadata": {},
   "outputs": [
    {
     "name": "stdout",
     "output_type": "stream",
     "text": [
      "siteme hoş geldin beyza nur\n",
      "siteme hoş geldin nazlı nur\n",
      "siteme hoş geldin nazlı yılmaz\n"
     ]
    }
   ],
   "source": [
    "def merhaba(name=\"beyza\", surname=\"nur\"):\n",
    "    print(\"siteme hoş geldin \" +name+ \" \" +surname)\n",
    "merhaba()\n",
    "merhaba(\"nazlı\")\n",
    "merhaba(\"nazlı\",\"yılmaz\")"
   ]
  }
 ],
 "metadata": {
  "kernelspec": {
   "display_name": "Python 3",
   "language": "python",
   "name": "python3"
  },
  "language_info": {
   "codemirror_mode": {
    "name": "ipython",
    "version": 3
   },
   "file_extension": ".py",
   "mimetype": "text/x-python",
   "name": "python",
   "nbconvert_exporter": "python",
   "pygments_lexer": "ipython3",
   "version": "3.11.1"
  },
  "orig_nbformat": 4
 },
 "nbformat": 4,
 "nbformat_minor": 2
}
